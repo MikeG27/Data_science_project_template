{
 "cells": [
  {
   "cell_type": "markdown",
   "id": "a5949d64",
   "metadata": {
    "toc": true
   },
   "source": [
    "<h1>Table of Contents<span class=\"tocSkip\"></span></h1>\n",
    "<div class=\"toc\"><ul class=\"toc-item\"></ul></div>"
   ]
  },
  {
   "cell_type": "code",
   "execution_count": null,
   "id": "cb10208c",
   "metadata": {
    "ExecuteTime": {
     "end_time": "2022-06-04T12:08:50.633874Z",
     "start_time": "2022-06-04T12:08:50.626494Z"
    }
   },
   "outputs": [],
   "source": [
    "from pathlib import Path\n",
    "import config as cfg\n",
    "\n",
    "path_folder_in = None\n",
    "path_folder_out = None\n",
    "\n",
    "path_file_in = None\n",
    "path_file_out = None"
   ]
  },
  {
   "cell_type": "code",
   "execution_count": null,
   "id": "e01c8d72",
   "metadata": {
    "ExecuteTime": {
     "end_time": "2022-06-04T12:01:33.611687Z",
     "start_time": "2022-06-04T12:01:33.604963Z"
    }
   },
   "outputs": [],
   "source": [
    "import os\n",
    "import sys\n",
    "\n",
    "import numpy as np\n",
    "import pandas as pd\n",
    "\n",
    "import seaborn as sns\n",
    "import matplotlib.pyplot as plt\n",
    "\n",
    "\n",
    "sys.path.append(\"../\")\n",
    "%load_ext autoreload\n",
    "%autoreload 2"
   ]
  },
  {
   "cell_type": "code",
   "execution_count": null,
   "id": "83857b8a",
   "metadata": {},
   "outputs": [],
   "source": [
    "df = pd.read_csv(path_file_in)\n",
    "df.head()"
   ]
  }
 ],
 "metadata": {
  "hide_input": false,
  "interpreter": {
   "hash": "ae0bcdce5c53bd522a55d96202c7c0f1e5cd120dc29ff135b36fb460f394c104"
  },
  "kernelspec": {
   "display_name": "Python 3.9.7 64-bit ('base': conda)",
   "language": "python",
   "name": "python3"
  },
  "language_info": {
   "codemirror_mode": {
    "name": "ipython",
    "version": 3
   },
   "file_extension": ".py",
   "mimetype": "text/x-python",
   "name": "python",
   "nbconvert_exporter": "python",
   "pygments_lexer": "ipython3",
   "version": "3.9.12"
  },
  "toc": {
   "base_numbering": 1,
   "nav_menu": {},
   "number_sections": true,
   "sideBar": true,
   "skip_h1_title": false,
   "title_cell": "Table of Contents",
   "title_sidebar": "Contents",
   "toc_cell": true,
   "toc_position": {},
   "toc_section_display": true,
   "toc_window_display": true
  },
  "varInspector": {
   "cols": {
    "lenName": 16,
    "lenType": 16,
    "lenVar": 40
   },
   "kernels_config": {
    "python": {
     "delete_cmd_postfix": "",
     "delete_cmd_prefix": "del ",
     "library": "var_list.py",
     "varRefreshCmd": "print(var_dic_list())"
    },
    "r": {
     "delete_cmd_postfix": ") ",
     "delete_cmd_prefix": "rm(",
     "library": "var_list.r",
     "varRefreshCmd": "cat(var_dic_list()) "
    }
   },
   "types_to_exclude": [
    "module",
    "function",
    "builtin_function_or_method",
    "instance",
    "_Feature"
   ],
   "window_display": false
  }
 },
 "nbformat": 4,
 "nbformat_minor": 5
}
